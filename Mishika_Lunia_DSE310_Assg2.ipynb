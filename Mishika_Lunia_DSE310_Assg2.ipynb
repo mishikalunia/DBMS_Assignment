{
 "cells": [
  {
   "cell_type": "markdown",
   "id": "58afd75b",
   "metadata": {},
   "source": [
    "# Assignment 2 - DSE 310"
   ]
  },
  {
   "cell_type": "markdown",
   "id": "84924a23",
   "metadata": {},
   "source": [
    "## Submitted by - Mishika Lunia\n",
    "## Roll no - 19194"
   ]
  },
  {
   "cell_type": "code",
   "execution_count": 1,
   "id": "cf8de374",
   "metadata": {},
   "outputs": [],
   "source": [
    "import mysql.connector\n",
    "from mysql.connector import Error"
   ]
  },
  {
   "cell_type": "code",
   "execution_count": 2,
   "id": "e697a190",
   "metadata": {},
   "outputs": [],
   "source": [
    "def create_server_connection(host_name, user_name, user_password):\n",
    "    connection = None\n",
    "    try:\n",
    "        connection = mysql.connector.connect(\n",
    "            host=host_name,\n",
    "            user=user_name,\n",
    "            passwd=user_password\n",
    "        )\n",
    "        print(\"MySQL Database connection successful\")\n",
    "    except Error:\n",
    "        print(f\"Error: '{Error}'\")\n",
    "\n",
    "    return connection"
   ]
  },
  {
   "cell_type": "code",
   "execution_count": 3,
   "id": "9d50c12f",
   "metadata": {},
   "outputs": [
    {
     "name": "stdout",
     "output_type": "stream",
     "text": [
      "MySQL Database connection successful\n"
     ]
    }
   ],
   "source": [
    "password = \"misha123#\"\n",
    "database_name = 'political_parties'\n",
    "connection = create_server_connection(\"localhost\", \"misha123\", password)"
   ]
  },
  {
   "cell_type": "code",
   "execution_count": 4,
   "id": "d81cf7c3",
   "metadata": {},
   "outputs": [],
   "source": [
    "def create_database(connection, query):\n",
    "    cursor = connection.cursor()\n",
    "    try:\n",
    "        cursor.execute(query)\n",
    "        print(\"Database created successfully\")\n",
    "    except Error:\n",
    "        print(f\"Error: '{Error}'\")"
   ]
  },
  {
   "cell_type": "code",
   "execution_count": 5,
   "id": "078b2449",
   "metadata": {},
   "outputs": [
    {
     "name": "stdout",
     "output_type": "stream",
     "text": [
      "Database created successfully\n"
     ]
    }
   ],
   "source": [
    "create_database_query = f\"CREATE DATABASE {database_name}\"\n",
    "create_database(connection, create_database_query)"
   ]
  },
  {
   "cell_type": "code",
   "execution_count": 6,
   "id": "053c2eff",
   "metadata": {},
   "outputs": [],
   "source": [
    "def create_db_connection(host_name, user_name, user_password, db_name):\n",
    "    connection = None\n",
    "    try:\n",
    "        connection = mysql.connector.connect(\n",
    "            host=host_name,\n",
    "            user=user_name,\n",
    "            passwd=user_password,\n",
    "            database=db_name\n",
    "        )\n",
    "        print(\"MySQL Database connection successful\")\n",
    "    except Error:\n",
    "        print(f\"Error: '{Error}'\")\n",
    "\n",
    "    return connection"
   ]
  },
  {
   "cell_type": "code",
   "execution_count": 7,
   "id": "35a75e50",
   "metadata": {},
   "outputs": [],
   "source": [
    "def execute_query(connection, query):\n",
    "    cursor = connection.cursor()\n",
    "    try:\n",
    "        cursor.execute(query)\n",
    "        connection.commit()\n",
    "        print(\"Query successful\")\n",
    "    except Error:\n",
    "        print(f\"Error: '{Error}'\")\n"
   ]
  },
  {
   "cell_type": "code",
   "execution_count": 8,
   "id": "260faee0",
   "metadata": {},
   "outputs": [
    {
     "name": "stdout",
     "output_type": "stream",
     "text": [
      "MySQL Database connection successful\n",
      "Query successful\n"
     ]
    }
   ],
   "source": [
    "create_parties_table = \"\"\"\n",
    "CREATE TABLE parties (\n",
    "  party_id INT PRIMARY KEY,\n",
    "  party_name VARCHAR(20) NOT NULL,\n",
    "  chairman_name VARCHAR(20) NOT NULL,\n",
    "  establishment_date DATE\n",
    "  );\n",
    " \"\"\"\n",
    "\n",
    "connection = create_db_connection(\"localhost\", \"misha123\", password, database_name)\n",
    "execute_query(connection, create_parties_table)                       "
   ]
  },
  {
   "cell_type": "code",
   "execution_count": 9,
   "id": "bc0cb577",
   "metadata": {},
   "outputs": [
    {
     "name": "stdout",
     "output_type": "stream",
     "text": [
      "MySQL Database connection successful\n",
      "Query successful\n"
     ]
    }
   ],
   "source": [
    "create_leaders_table = \"\"\"\n",
    "CREATE TABLE leaders (\n",
    "  party_id INT PRIMARY KEY,\n",
    "  leader_name VARCHAR(40) NOT NULL,\n",
    "  budget INT NOT NULL,\n",
    "  FOREIGN KEY (party_id) REFERENCES parties(party_id)\n",
    "  );\n",
    " \"\"\"\n",
    "connection = create_db_connection(\"localhost\", \"misha123\", password, database_name)\n",
    "execute_query(connection, create_leaders_table) "
   ]
  },
  {
   "cell_type": "markdown",
   "id": "d4dc8a4b",
   "metadata": {},
   "source": [
    "### INSERT"
   ]
  },
  {
   "cell_type": "code",
   "execution_count": 23,
   "id": "a6e23824",
   "metadata": {},
   "outputs": [],
   "source": [
    "data = \"\"\"\n",
    "INSERT INTO parties VALUES\n",
    "(1,  'Aam Aadmi Party', 'Arvind Kejriwal', '2010-09-30'),\n",
    "(2, 'BSP','Mayawati', '1926-07-09'),\n",
    "(3, 'Biju Janata Dal', 'Naveen Pattnaik', '1990-11-12'),\n",
    "(4, 'CPI',  'Sitaram Yechury', '1890-09-24')\n",
    "\"\"\""
   ]
  },
  {
   "cell_type": "code",
   "execution_count": 24,
   "id": "1b317430",
   "metadata": {},
   "outputs": [
    {
     "name": "stdout",
     "output_type": "stream",
     "text": [
      "Query successful\n"
     ]
    }
   ],
   "source": [
    "execute_query(connection, data)"
   ]
  },
  {
   "cell_type": "code",
   "execution_count": 25,
   "id": "32c98953",
   "metadata": {},
   "outputs": [],
   "source": [
    "cursor = connection.cursor()\n",
    "cursor.execute(\"SELECT * FROM parties;\")\n",
    "rows = cursor.fetchall()"
   ]
  },
  {
   "cell_type": "code",
   "execution_count": 26,
   "id": "0f60d8ab",
   "metadata": {},
   "outputs": [
    {
     "name": "stdout",
     "output_type": "stream",
     "text": [
      "(1, 'Aam Aadmi Party', 'Arvind Kejriwal', datetime.date(2010, 9, 30))\n",
      "(2, 'BSP', 'Mayawati', datetime.date(1926, 7, 9))\n",
      "(3, 'Biju Janata Dal', 'Naveen Pattnaik', datetime.date(1990, 11, 12))\n",
      "(4, 'CPI', 'Sitaram Yechury', datetime.date(1890, 9, 24))\n"
     ]
    }
   ],
   "source": [
    "for i in rows:\n",
    "    print(i)"
   ]
  },
  {
   "cell_type": "code",
   "execution_count": 32,
   "id": "7a13f02e",
   "metadata": {},
   "outputs": [
    {
     "name": "stdout",
     "output_type": "stream",
     "text": [
      "Arvind Kejriwal\n"
     ]
    }
   ],
   "source": [
    "cursor.execute(\"SELECT chairman_name FROM parties WHERE party_id = 1\")\n",
    "print(cursor.fetchall()[0][0])"
   ]
  },
  {
   "cell_type": "markdown",
   "id": "9efb8011",
   "metadata": {},
   "source": [
    "### UPDATE"
   ]
  },
  {
   "cell_type": "code",
   "execution_count": 37,
   "id": "1f06d7fa",
   "metadata": {},
   "outputs": [],
   "source": [
    "cursor.execute(\"UPDATE parties SET chairman_name = 'Yogendra Yadav' WHERE party_id = 1;\")"
   ]
  },
  {
   "cell_type": "code",
   "execution_count": 38,
   "id": "c0d4b127",
   "metadata": {},
   "outputs": [],
   "source": [
    "cursor.execute(\"SELECT * FROM parties;\")\n",
    "rows = cursor.fetchall()"
   ]
  },
  {
   "cell_type": "code",
   "execution_count": 39,
   "id": "a333e474",
   "metadata": {},
   "outputs": [
    {
     "name": "stdout",
     "output_type": "stream",
     "text": [
      "(1, 'Aam Aadmi Party', 'Yogendra Yadav', datetime.date(2010, 9, 30))\n",
      "(2, 'BSP', 'Mayawati', datetime.date(1926, 7, 9))\n",
      "(3, 'Biju Janata Dal', 'Naveen Pattnaik', datetime.date(1990, 11, 12))\n",
      "(4, 'CPI', 'Sitaram Yechury', datetime.date(1890, 9, 24))\n"
     ]
    }
   ],
   "source": [
    "for i in rows:\n",
    "    print(i)"
   ]
  },
  {
   "cell_type": "markdown",
   "id": "3270b912",
   "metadata": {},
   "source": [
    "### Error when Foreign key Constraint is violated."
   ]
  },
  {
   "cell_type": "code",
   "execution_count": 40,
   "id": "8ba971c5",
   "metadata": {},
   "outputs": [
    {
     "ename": "DataError",
     "evalue": "1136 (21S01): Column count doesn't match value count at row 1",
     "output_type": "error",
     "traceback": [
      "\u001b[0;31m---------------------------------------------------------------------------\u001b[0m",
      "\u001b[0;31mDataError\u001b[0m                                 Traceback (most recent call last)",
      "\u001b[0;32m<ipython-input-40-ef234ce8999a>\u001b[0m in \u001b[0;36m<module>\u001b[0;34m\u001b[0m\n\u001b[0;32m----> 1\u001b[0;31m \u001b[0mcursor\u001b[0m\u001b[0;34m.\u001b[0m\u001b[0mexecute\u001b[0m\u001b[0;34m(\u001b[0m\u001b[0;34m\"INSERT INTO parties VALUES(5, 'CPI', '2025-03-16');\"\u001b[0m\u001b[0;34m)\u001b[0m\u001b[0;34m\u001b[0m\u001b[0;34m\u001b[0m\u001b[0m\n\u001b[0m",
      "\u001b[0;32m/opt/anaconda3/lib/python3.8/site-packages/mysql/connector/cursor.py\u001b[0m in \u001b[0;36mexecute\u001b[0;34m(self, operation, params, multi)\u001b[0m\n\u001b[1;32m    570\u001b[0m \u001b[0;34m\u001b[0m\u001b[0m\n\u001b[1;32m    571\u001b[0m         \u001b[0;32mtry\u001b[0m\u001b[0;34m:\u001b[0m\u001b[0;34m\u001b[0m\u001b[0;34m\u001b[0m\u001b[0m\n\u001b[0;32m--> 572\u001b[0;31m             \u001b[0mself\u001b[0m\u001b[0;34m.\u001b[0m\u001b[0m_handle_result\u001b[0m\u001b[0;34m(\u001b[0m\u001b[0mself\u001b[0m\u001b[0;34m.\u001b[0m\u001b[0m_connection\u001b[0m\u001b[0;34m.\u001b[0m\u001b[0mcmd_query\u001b[0m\u001b[0;34m(\u001b[0m\u001b[0mstmt\u001b[0m\u001b[0;34m)\u001b[0m\u001b[0;34m)\u001b[0m\u001b[0;34m\u001b[0m\u001b[0;34m\u001b[0m\u001b[0m\n\u001b[0m\u001b[1;32m    573\u001b[0m         \u001b[0;32mexcept\u001b[0m \u001b[0merrors\u001b[0m\u001b[0;34m.\u001b[0m\u001b[0mInterfaceError\u001b[0m\u001b[0;34m:\u001b[0m\u001b[0;34m\u001b[0m\u001b[0;34m\u001b[0m\u001b[0m\n\u001b[1;32m    574\u001b[0m             \u001b[0;32mif\u001b[0m \u001b[0mself\u001b[0m\u001b[0;34m.\u001b[0m\u001b[0m_connection\u001b[0m\u001b[0;34m.\u001b[0m\u001b[0m_have_next_result\u001b[0m\u001b[0;34m:\u001b[0m  \u001b[0;31m# pylint: disable=W0212\u001b[0m\u001b[0;34m\u001b[0m\u001b[0;34m\u001b[0m\u001b[0m\n",
      "\u001b[0;32m/opt/anaconda3/lib/python3.8/site-packages/mysql/connector/connection.py\u001b[0m in \u001b[0;36mcmd_query\u001b[0;34m(self, query, raw, buffered, raw_as_string)\u001b[0m\n\u001b[1;32m    918\u001b[0m         \u001b[0mquery\u001b[0m \u001b[0;34m=\u001b[0m \u001b[0mbytes\u001b[0m\u001b[0;34m(\u001b[0m\u001b[0mpacket\u001b[0m\u001b[0;34m)\u001b[0m\u001b[0;34m\u001b[0m\u001b[0;34m\u001b[0m\u001b[0m\n\u001b[1;32m    919\u001b[0m         \u001b[0;32mtry\u001b[0m\u001b[0;34m:\u001b[0m\u001b[0;34m\u001b[0m\u001b[0;34m\u001b[0m\u001b[0m\n\u001b[0;32m--> 920\u001b[0;31m             \u001b[0mresult\u001b[0m \u001b[0;34m=\u001b[0m \u001b[0mself\u001b[0m\u001b[0;34m.\u001b[0m\u001b[0m_handle_result\u001b[0m\u001b[0;34m(\u001b[0m\u001b[0mself\u001b[0m\u001b[0;34m.\u001b[0m\u001b[0m_send_cmd\u001b[0m\u001b[0;34m(\u001b[0m\u001b[0mServerCmd\u001b[0m\u001b[0;34m.\u001b[0m\u001b[0mQUERY\u001b[0m\u001b[0;34m,\u001b[0m \u001b[0mquery\u001b[0m\u001b[0;34m)\u001b[0m\u001b[0;34m)\u001b[0m\u001b[0;34m\u001b[0m\u001b[0;34m\u001b[0m\u001b[0m\n\u001b[0m\u001b[1;32m    921\u001b[0m         \u001b[0;32mexcept\u001b[0m \u001b[0merrors\u001b[0m\u001b[0;34m.\u001b[0m\u001b[0mProgrammingError\u001b[0m \u001b[0;32mas\u001b[0m \u001b[0merr\u001b[0m\u001b[0;34m:\u001b[0m\u001b[0;34m\u001b[0m\u001b[0;34m\u001b[0m\u001b[0m\n\u001b[1;32m    922\u001b[0m             \u001b[0;32mif\u001b[0m \u001b[0merr\u001b[0m\u001b[0;34m.\u001b[0m\u001b[0merrno\u001b[0m \u001b[0;34m==\u001b[0m \u001b[0;36m3948\u001b[0m \u001b[0;32mand\u001b[0m\u001b[0;31m \u001b[0m\u001b[0;31m\\\u001b[0m\u001b[0;34m\u001b[0m\u001b[0;34m\u001b[0m\u001b[0m\n",
      "\u001b[0;32m/opt/anaconda3/lib/python3.8/site-packages/mysql/connector/connection.py\u001b[0m in \u001b[0;36m_handle_result\u001b[0;34m(self, packet)\u001b[0m\n\u001b[1;32m    728\u001b[0m             \u001b[0;32mreturn\u001b[0m \u001b[0mself\u001b[0m\u001b[0;34m.\u001b[0m\u001b[0m_handle_eof\u001b[0m\u001b[0;34m(\u001b[0m\u001b[0mpacket\u001b[0m\u001b[0;34m)\u001b[0m\u001b[0;34m\u001b[0m\u001b[0;34m\u001b[0m\u001b[0m\n\u001b[1;32m    729\u001b[0m         \u001b[0;32melif\u001b[0m \u001b[0mpacket\u001b[0m\u001b[0;34m[\u001b[0m\u001b[0;36m4\u001b[0m\u001b[0;34m]\u001b[0m \u001b[0;34m==\u001b[0m \u001b[0;36m255\u001b[0m\u001b[0;34m:\u001b[0m\u001b[0;34m\u001b[0m\u001b[0;34m\u001b[0m\u001b[0m\n\u001b[0;32m--> 730\u001b[0;31m             \u001b[0;32mraise\u001b[0m \u001b[0merrors\u001b[0m\u001b[0;34m.\u001b[0m\u001b[0mget_exception\u001b[0m\u001b[0;34m(\u001b[0m\u001b[0mpacket\u001b[0m\u001b[0;34m)\u001b[0m\u001b[0;34m\u001b[0m\u001b[0;34m\u001b[0m\u001b[0m\n\u001b[0m\u001b[1;32m    731\u001b[0m \u001b[0;34m\u001b[0m\u001b[0m\n\u001b[1;32m    732\u001b[0m         \u001b[0;31m# We have a text result set\u001b[0m\u001b[0;34m\u001b[0m\u001b[0;34m\u001b[0m\u001b[0;34m\u001b[0m\u001b[0m\n",
      "\u001b[0;31mDataError\u001b[0m: 1136 (21S01): Column count doesn't match value count at row 1"
     ]
    }
   ],
   "source": [
    "cursor.execute(\"INSERT INTO parties VALUES(5, 'CPI', '2025-03-16');\")"
   ]
  },
  {
   "cell_type": "markdown",
   "id": "95709496",
   "metadata": {},
   "source": [
    "### Dropping the Leaders Table"
   ]
  },
  {
   "cell_type": "code",
   "execution_count": 41,
   "id": "0221b1a4",
   "metadata": {},
   "outputs": [
    {
     "name": "stdout",
     "output_type": "stream",
     "text": [
      "Query successful\n"
     ]
    }
   ],
   "source": [
    "table_name = \"leaders\"\n",
    "\n",
    "execute_query(connection, f\"DROP TABLE {table_name}\")"
   ]
  },
  {
   "cell_type": "markdown",
   "id": "a814fdf4",
   "metadata": {},
   "source": [
    "### Adding User ('Mishika')"
   ]
  },
  {
   "cell_type": "code",
   "execution_count": 42,
   "id": "159e19e9",
   "metadata": {},
   "outputs": [
    {
     "name": "stdout",
     "output_type": "stream",
     "text": [
      "Query successful\n"
     ]
    }
   ],
   "source": [
    "execute_query(connection, \"CREATE USER 'mishika' IDENTIFIED BY 'mishi123#'\")"
   ]
  },
  {
   "cell_type": "code",
   "execution_count": 43,
   "id": "f56b37ab",
   "metadata": {},
   "outputs": [
    {
     "name": "stdout",
     "output_type": "stream",
     "text": [
      "Query successful\n"
     ]
    }
   ],
   "source": [
    "execute_query(connection, f\"GRANT SELECT  ON {database_name}.parties TO mishika\")"
   ]
  },
  {
   "cell_type": "code",
   "execution_count": 44,
   "id": "519f9cde",
   "metadata": {},
   "outputs": [
    {
     "name": "stdout",
     "output_type": "stream",
     "text": [
      "MySQL Database connection successful\n"
     ]
    }
   ],
   "source": [
    "connection2 = create_db_connection(\"localhost\", \"mishika\", 'mishi123#', database_name) "
   ]
  },
  {
   "cell_type": "code",
   "execution_count": 45,
   "id": "09897475",
   "metadata": {},
   "outputs": [
    {
     "data": {
      "text/plain": [
       "[('GRANT USAGE ON *.* TO `mishika`@`%`',),\n",
       " ('GRANT SELECT ON `political_parties`.`parties` TO `mishika`@`%`',)]"
      ]
     },
     "execution_count": 45,
     "metadata": {},
     "output_type": "execute_result"
    }
   ],
   "source": [
    "cursor2 = connection2.cursor()\n",
    "cursor2.execute(\"SHOW GRANTS;\")\n",
    "cursor2.fetchall()"
   ]
  },
  {
   "cell_type": "markdown",
   "id": "56140f0d",
   "metadata": {},
   "source": [
    "### Removing privileges for user 'Mishika'"
   ]
  },
  {
   "cell_type": "code",
   "execution_count": 46,
   "id": "fc2a2f09",
   "metadata": {},
   "outputs": [
    {
     "name": "stdout",
     "output_type": "stream",
     "text": [
      "MySQL Database connection successful\n"
     ]
    }
   ],
   "source": [
    "connection = create_db_connection(\"localhost\", \"misha123\", password, database_name)"
   ]
  },
  {
   "cell_type": "code",
   "execution_count": 48,
   "id": "85dddaf3",
   "metadata": {},
   "outputs": [
    {
     "data": {
      "text/plain": [
       "[('GRANT USAGE ON *.* TO `mishika`@`%`',)]"
      ]
     },
     "execution_count": 48,
     "metadata": {},
     "output_type": "execute_result"
    }
   ],
   "source": [
    "cursor = connection.cursor()\n",
    "cursor.execute(f\"REVOKE ALL PRIVILEGES, GRANT OPTION FROM mishika\")\n",
    "cursor2.execute(\"SHOW GRANTS;\")\n",
    "cursor2.fetchall()"
   ]
  },
  {
   "cell_type": "markdown",
   "id": "d1f320c4",
   "metadata": {},
   "source": [
    "### Removing User 'Mishika'"
   ]
  },
  {
   "cell_type": "code",
   "execution_count": 49,
   "id": "ffa7b0be",
   "metadata": {},
   "outputs": [
    {
     "data": {
      "text/plain": [
       "[('mishika',),\n",
       " ('misha123',),\n",
       " ('mysql.infoschema',),\n",
       " ('mysql.session',),\n",
       " ('mysql.sys',),\n",
       " ('root',)]"
      ]
     },
     "execution_count": 49,
     "metadata": {},
     "output_type": "execute_result"
    }
   ],
   "source": [
    "cursor.execute(\"SELECT user FROM mysql.user;\")\n",
    "cursor.fetchall()"
   ]
  },
  {
   "cell_type": "code",
   "execution_count": 50,
   "id": "75058b64",
   "metadata": {},
   "outputs": [],
   "source": [
    "cursor.execute(\"DROP user mishika;\")"
   ]
  },
  {
   "cell_type": "code",
   "execution_count": 51,
   "id": "5a536904",
   "metadata": {},
   "outputs": [
    {
     "data": {
      "text/plain": [
       "[('misha123',),\n",
       " ('mysql.infoschema',),\n",
       " ('mysql.session',),\n",
       " ('mysql.sys',),\n",
       " ('root',)]"
      ]
     },
     "execution_count": 51,
     "metadata": {},
     "output_type": "execute_result"
    }
   ],
   "source": [
    "cursor.execute(\"SELECT user FROM mysql.user;\")\n",
    "cursor.fetchall()"
   ]
  }
 ],
 "metadata": {
  "kernelspec": {
   "display_name": "Python 3",
   "language": "python",
   "name": "python3"
  },
  "language_info": {
   "codemirror_mode": {
    "name": "ipython",
    "version": 3
   },
   "file_extension": ".py",
   "mimetype": "text/x-python",
   "name": "python",
   "nbconvert_exporter": "python",
   "pygments_lexer": "ipython3",
   "version": "3.8.8"
  }
 },
 "nbformat": 4,
 "nbformat_minor": 5
}
